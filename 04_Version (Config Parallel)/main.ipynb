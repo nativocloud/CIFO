{
 "cells": [
  {
   "cell_type": "markdown",
   "metadata": {},
   "source": [
    "# Sports League Optimization\n",
    "\n",
    "This notebook implements and tests optimization algorithms for the Sports League problem, where we need to assign players to teams in a balanced way while respecting position and budget constraints."
   ]
  },
  {
   "cell_type": "code",
   "execution_count": null,
   "metadata": {},
   "source": [
    "import pandas as pd\n",
    "import numpy as np\n",
    "import matplotlib.pyplot as plt\n",
    "import time\n",
    "\n",
    "from solution import LeagueSolution, LeagueHillClimbingSolution, LeagueSASolution\n",
    "from evolution import (\n",
    "    hill_climbing, \n",
    "    simulated_annealing, \n",
    "    genetic_algorithm,\n",
    "    # Mutation operators\n",
    "    mutate_swap_constrained,\n",
    "    mutate_targeted_player_exchange,\n",
    "    mutate_shuffle_within_team_constrained,\n",
    "    # Crossover operators\n",
    "    crossover_one_point_prefer_valid,\n",
    "    crossover_uniform_prefer_valid,\n",
    "    # Selection operators\n",
    "    selection_ranking,\n",
    "    selection_tournament_variable_k,\n",
    "    selection_boltzmann\n",
    ")\n",
    "\n",
    "# Load player data\n",
    "players_df = pd.read_csv(\"players.csv\", sep=\";\")\n",
    "players_data = players_df.to_dict(orient=\"records\")"
   ]
  },
  {
   "cell_type": "code",
   "execution_count": null,
   "metadata": {},
   "source": [
    "# Display the player data\n",
    "players_data"
   ]
  },
  {
   "cell_type": "markdown",
   "metadata": {},
   "source": [
    "## 1. Problem Definition\n",
    "\n",
    "In the Sports League problem, we need to:\n",
    "- Assign 35 players to 5 teams (7 players per team)\n",
    "- Each team must have exactly 1 GK, 2 DEF, 2 MID, and 2 FWD\n",
    "- Each team's total salary must not exceed 750M €\n",
    "- The goal is to create balanced teams (minimize standard deviation of average team skills)"
   ]
  },
  {
   "cell_type": "markdown",
   "metadata": {},
   "source": [
    "## 2. Hill Climbing Algorithm"
   ]
  },
  {
   "cell_type": "code",
   "execution_count": null,
   "metadata": {},
   "source": [
    "# Create an initial solution for Hill Climbing\n",
    "hc_solution = LeagueHillClimbingSolution(players=players_data)\n",
    "\n",
    "# Check if the initial solution is valid\n",
    "print(f\"Initial solution is valid: {hc_solution.is_valid()}\")\n",
    "print(f\"Initial fitness: {hc_solution.fitness()}\")"
   ]
  },
  {
   "cell_type": "code",
   "execution_count": null,
   "metadata": {},
   "source": [
    "# Run Hill Climbing\n",
    "start_time = time.time()\n",
    "best_hc_solution, best_hc_fitness, hc_history = hill_climbing(\n",
    "    hc_solution,\n",
    "    max_iterations=500,\n",
    "    max_no_improvement=100,\n",
    "    verbose=True\n",
    ")\n",
    "hc_time = time.time() - start_time\n",
    "\n",
    "print(f\"\\nHill Climbing completed in {hc_time:.2f} seconds\")\n",
    "print(f\"Best fitness: {best_hc_fitness}\")"
   ]
  },
  {
   "cell_type": "code",
   "execution_count": null,
   "metadata": {},
   "source": [
    "# Plot the convergence history\n",
    "plt.figure(figsize=(10, 6))\n",
    "plt.plot(hc_history)\n",
    "plt.title('Hill Climbing Convergence')\n",
    "plt.xlabel('Iterations')\n",
    "plt.ylabel('Fitness (lower is better)')\n",
    "plt.grid(True)\n",
    "plt.show()"
   ]
  },
  {
   "cell_type": "markdown",
   "metadata": {},
   "source": [
    "## 3. Simulated Annealing Algorithm"
   ]
  },
  {
   "cell_type": "code",
   "execution_count": null,
   "metadata": {},
   "source": [
    "# Create an initial solution for Simulated Annealing\n",
    "sa_solution = LeagueSASolution(players=players_data)\n",
    "\n",
    "# Check if the initial solution is valid\n",
    "print(f\"Initial solution is valid: {sa_solution.is_valid()}\")\n",
    "print(f\"Initial fitness: {sa_solution.fitness()}\")"
   ]
  },
  {
   "cell_type": "code",
   "execution_count": null,
   "metadata": {},
   "source": [
    "# Run Simulated Annealing\n",
    "start_time = time.time()\n",
    "best_sa_solution, best_sa_fitness, sa_history = simulated_annealing(\n",
    "    sa_solution,\n",
    "    initial_temperature=200.0,\n",
    "    cooling_rate=0.95,\n",
    "    min_temperature=1e-5,\n",
    "    iterations_per_temp=20,\n",
    "    verbose=True\n",
    ")\n",
    "sa_time = time.time() - start_time\n",
    "\n",
    "print(f\"\\nSimulated Annealing completed in {sa_time:.2f} seconds\")\n",
    "print(f\"Best fitness: {best_sa_fitness}\")"
   ]
  },
  {
   "cell_type": "code",
   "execution_count": null,
   "metadata": {},
   "source": [
    "# Plot the convergence history\n",
    "plt.figure(figsize=(10, 6))\n",
    "plt.plot(sa_history)\n",
    "plt.title('Simulated Annealing Convergence')\n",
    "plt.xlabel('Iterations')\n",
    "plt.ylabel('Fitness (lower is better)')\n",
    "plt.grid(True)\n",
    "plt.show()"
   ]
  },
  {
   "cell_type": "markdown",
   "metadata": {},
   "source": [
    "## 4. Genetic Algorithm"
   ]
  },
  {
   "cell_type": "code",
   "execution_count": null,
   "metadata": {},
   "source": [
    "# Run standard Genetic Algorithm\n",
    "start_time = time.time()\n",
    "best_ga_solution, best_ga_fitness, ga_history = genetic_algorithm(\n",
    "    players_data,\n",
    "    population_size=100,\n",
    "    max_generations=50,\n",
    "    selection_operator=selection_tournament_variable_k,\n",
    "    selection_params={\"k\": 3},\n",
    "    crossover_operator=crossover_one_point_prefer_valid,\n",
    "    crossover_rate=0.8,\n",
    "    mutation_operator=mutate_targeted_player_exchange,\n",
    "    mutation_rate=0.1,\n",
    "    elitism=True,\n",
    "    elitism_size=2,\n",
    "    verbose=True\n",
    ")\n",
    "ga_time = time.time() - start_time\n",
    "\n",
    "print(f\"\\nGenetic Algorithm completed in {ga_time:.2f} seconds\")\n",
    "print(f\"Best fitness: {best_ga_fitness}\")"
   ]
  },
  {
   "cell_type": "code",
   "execution_count": null,
   "metadata": {},
   "source": [
    "# Plot the convergence history\n",
    "plt.figure(figsize=(10, 6))\n",
    "plt.plot(ga_history)\n",
    "plt.title('Genetic Algorithm Convergence')\n",
    "plt.xlabel('Generations')\n",
    "plt.ylabel('Fitness (lower is better)')\n",
    "plt.grid(True)\n",
    "plt.show()"
   ]
  },
  {
   "cell_type": "code",
   "execution_count": null,
   "metadata": {},
   "source": [
    "# Run hybrid Genetic Algorithm with Hill Climbing\n",
    "start_time = time.time()\n",
    "best_hybrid_solution, best_hybrid_fitness, hybrid_history = genetic_algorithm(\n",
    "    players_data,\n",
    "    population_size=75,\n",
    "    max_generations=40,\n",
    "    selection_operator=selection_tournament_variable_k,\n",
    "    selection_params={\"k\": 3},\n",
    "    crossover_operator=crossover_uniform_prefer_valid,\n",
    "    crossover_rate=0.85,\n",
    "    mutation_operator=mutate_targeted_player_exchange,\n",
    "    mutation_rate=0.15,\n",
    "    elitism=True,\n",
    "    elitism_size=1,\n",
    "    local_search={\n",
    "        \"algorithm\": \"hill_climbing\",\n",
    "        \"frequency\": 5,  # Apply HC every 5 generations\n",
    "        \"iterations\": 50  # HC iterations per application\n",
    "    },\n",
    "    verbose=True\n",
    ")\n",
    "hybrid_time = time.time() - start_time\n",
    "\n",
    "print(f\"\\nHybrid Genetic Algorithm completed in {hybrid_time:.2f} seconds\")\n",
    "print(f\"Best fitness: {best_hybrid_fitness}\")"
   ]
  },
  {
   "cell_type": "code",
   "execution_count": null,
   "metadata": {},
   "source": [
    "# Plot the convergence history\n",
    "plt.figure(figsize=(10, 6))\n",
    "plt.plot(hybrid_history)\n",
    "plt.title('Hybrid Genetic Algorithm Convergence')\n",
    "plt.xlabel('Generations')\n",
    "plt.ylabel('Fitness (lower is better)')\n",
    "plt.grid(True)\n",
    "plt.show()"
   ]
  },
  {
   "cell_type": "markdown",
   "metadata": {},
   "source": [
    "## 5. Algorithm Comparison"
   ]
  },
  {
   "cell_type": "code",
   "execution_count": null,
   "metadata": {},
   "source": [
    "# Compare all algorithms\n",
    "results = {\n",
    "    'Algorithm': ['Hill Climbing', 'Simulated Annealing', 'Genetic Algorithm', 'Hybrid GA'],\n",
    "    'Best Fitness': [best_hc_fitness, best_sa_fitness, best_ga_fitness, best_hybrid_fitness],\n",
    "    'Execution Time (s)': [hc_time, sa_time, ga_time, hybrid_time]\n",
    "}\n",
    "\n",
    "results_df = pd.DataFrame(results)\n",
    "results_df"
   ]
  },
  {
   "cell_type": "code",
   "execution_count": null,
   "metadata": {},
   "source": [
    "# Plot fitness comparison\n",
    "plt.figure(figsize=(12, 6))\n",
    "plt.subplot(1, 2, 1)\n",
    "plt.bar(results['Algorithm'], results['Best Fitness'])\n",
    "plt.title('Best Fitness Comparison')\n",
    "plt.ylabel('Fitness (lower is better)')\n",
    "plt.xticks(rotation=45)\n",
    "\n",
    "# Plot time comparison\n",
    "plt.subplot(1, 2, 2)\n",
    "plt.bar(results['Algorithm'], results['Execution Time (s)'])\n",
    "plt.title('Execution Time Comparison')\n",
    "plt.ylabel('Time (seconds)')\n",
    "plt.xticks(rotation=45)\n",
    "\n",
    "plt.tight_layout()\n",
    "plt.show()"
   ]
  },
  {
   "cell_type": "markdown",
   "metadata": {},
   "source": [
    "## 6. Best Solution Analysis"
   ]
  },
  {
   "cell_type": "code",
   "execution_count": null,
   "metadata": {},
   "source": [
    "# Determine the best overall solution\n",
    "all_solutions = [\n",
    "    (best_hc_solution, best_hc_fitness, \"Hill Climbing\"),\n",
    "    (best_sa_solution, best_sa_fitness, \"Simulated Annealing\"),\n",
    "    (best_ga_solution, best_ga_fitness, \"Genetic Algorithm\"),\n",
    "    (best_hybrid_solution, best_hybrid_fitness, \"Hybrid GA\")\n",
    "]\n",
    "\n",
    "best_overall = min(all_solutions, key=lambda x: x[1])\n",
    "best_solution, best_fitness, best_algorithm = best_overall\n",
    "\n",
    "print(f\"Best overall solution found by {best_algorithm} with fitness {best_fitness}\")"
   ]
  },
  {
   "cell_type": "code",
   "execution_count": null,
   "metadata": {},
   "source": [
    "# Analyze the best solution\n",
    "team_stats = best_solution.get_team_stats()\n",
    "\n",
    "# Create a DataFrame for team statistics\n",
    "teams_df = pd.DataFrame([\n",
    "    {\n",
    "        'Team': f\"Team {stats['team_id']}\",\n",
    "        'Average Skill': stats['avg_skill'],\n",
    "        'Total Salary': stats['total_salary'],\n",
    "        'GK': stats['positions']['GK'],\n",
    "        'DEF': stats['positions']['DEF'],\n",
    "        'MID': stats['positions']['MID'],\n",
    "        'FWD': stats['positions']['FWD']\n",
    "    } for stats in team_stats\n",
    "])\n",
    "\n",
    "teams_df"
   ]
  },
  {
   "cell_type": "code",
   "execution_count": null,
   "metadata": {},
   "source": [
    "# Plot team skills\n",
    "plt.figure(figsize=(10, 6))\n",
    "plt.bar(teams_df['Team'], teams_df['Average Skill'])\n",
    "plt.title('Average Skill by Team')\n",
    "plt.ylabel('Average Skill')\n",
    "plt.axhline(y=teams_df['Average Skill'].mean(), color='r', linestyle='--', label='Mean')\n",
    "plt.legend()\n",
    "plt.show()"
   ]
  },
  {
   "cell_type": "code",
   "execution_count": null,
   "metadata": {},
   "source": [
    "# Plot team salaries\n",
    "plt.figure(figsize=(10, 6))\n",
    "bars = plt.bar(teams_df['Team'], teams_df['Total Salary'])\n",
    "plt.title('Total Salary by Team')\n",
    "plt.ylabel('Total Salary (M €)')\n",
    "plt.axhline(y=750, color='r', linestyle='--', label='Budget Limit')\n",
    "plt.legend()\n",
    "\n",
    "# Add value labels on top of bars\n",
    "for bar in bars:\n",
    "    height = bar.get_height()\n",
    "    plt.text(bar.get_x() + bar.get_width()/2., height + 5,\n",
    "             f'{height:.1f}',\n",
    "             ha='center', va='bottom')\n",
    "\n",
    "plt.show()"
   ]
  },
  {
   "cell_type": "code",
   "execution_count": null,
   "metadata": {},
   "source": [
    "# Display detailed team compositions\n",
    "for i, stats in enumerate(team_stats):\n",
    "    print(f\"\\nTeam {i}:\")\n",
    "    print(f\"Average Skill: {stats['avg_skill']:.2f}\")\n",
    "    print(f\"Total Salary: {stats['total_salary']} M €\")\n",
    "    print(\"Players:\")\n",
    "    \n",
    "    # Create a DataFrame for this team's players\n",
    "    team_df = pd.DataFrame(stats['players'])\n",
    "    team_df = team_df.sort_values(by='Position')\n",
    "    display(team_df)"
   ]
  }
 ],
 "metadata": {
  "kernelspec": {
   "display_name": "Python 3",
   "language": "python",
   "name": "python3"
  },
  "language_info": {
   "codemirror_mode": {
    "name": "ipython",
    "version": 3
   },
   "file_extension": ".py",
   "mimetype": "text/x-python",
   "name": "python",
   "nbconvert_exporter": "python",
   "pygments_lexer": "ipython3",
   "version": "3.11.0rc1"
  }
 },
 "nbformat": 4,
 "nbformat_minor": 4
}
